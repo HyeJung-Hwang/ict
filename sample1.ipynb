{
 "cells": [
  {
   "cell_type": "code",
   "execution_count": 1,
   "metadata": {},
   "outputs": [
    {
     "data": {
      "text/html": [
       "\n",
       "        <div>\n",
       "            <p><b>SparkContext</b></p>\n",
       "\n",
       "            <p><a href=\"http://ip-172-31-63-145.ap-northeast-2.compute.internal:4040\">Spark UI</a></p>\n",
       "\n",
       "            <dl>\n",
       "              <dt>Version</dt>\n",
       "                <dd><code>v3.4.1</code></dd>\n",
       "              <dt>Master</dt>\n",
       "                <dd><code>local[*]</code></dd>\n",
       "              <dt>AppName</dt>\n",
       "                <dd><code>PySparkShell</code></dd>\n",
       "            </dl>\n",
       "        </div>\n",
       "        "
      ],
      "text/plain": [
       "<SparkContext master=local[*] appName=PySparkShell>"
      ]
     },
     "execution_count": 1,
     "metadata": {},
     "output_type": "execute_result"
    }
   ],
   "source": [
    "sc"
   ]
  },
  {
   "cell_type": "code",
   "execution_count": 2,
   "metadata": {},
   "outputs": [],
   "source": [
    "myRange = spark.range(1000).toDF(\"number\")"
   ]
  },
  {
   "cell_type": "code",
   "execution_count": 3,
   "metadata": {},
   "outputs": [],
   "source": [
    "divisBy2 = myRange.where(\"number % 2 = 0\")"
   ]
  },
  {
   "cell_type": "code",
   "execution_count": 4,
   "metadata": {},
   "outputs": [
    {
     "data": {
      "text/plain": [
       "500"
      ]
     },
     "execution_count": 4,
     "metadata": {},
     "output_type": "execute_result"
    }
   ],
   "source": [
    "divisBy2.count()"
   ]
  },
  {
   "cell_type": "code",
   "execution_count": 1,
   "metadata": {},
   "outputs": [
    {
     "name": "stdout",
     "output_type": "stream",
     "text": [
      "Welcome to\n",
      "      ____              __\n",
      "     / __/__  ___ _____/ /__\n",
      "    _\\ \\/ _ \\/ _ `/ __/  '_/\n",
      "   /__ / .__/\\_,_/_/ /_/\\_\\   version 3.4.1\n",
      "      /_/\n",
      "\n",
      "Using Python version 3.8.10 (default, May 26 2023 14:05:08)\n",
      "Spark context Web UI available at http://ip-172-31-63-145.ap-northeast-2.compute.internal:4040\n",
      "Spark context available as 'sc' (master = local[*], app id = local-1691551769202).\n",
      "SparkSession available as 'spark'.\n"
     ]
    }
   ],
   "source": [
    "from pyspark.shell import SparkSession"
   ]
  },
  {
   "cell_type": "code",
   "execution_count": 2,
   "metadata": {},
   "outputs": [],
   "source": [
    "from pyspark.sql.types import StructType, StructField, LongType, DoubleType"
   ]
  },
  {
   "cell_type": "code",
   "execution_count": 3,
   "metadata": {},
   "outputs": [],
   "source": [
    "from pyspark.sql.functions import (to_json, posexplode, udf,col,\n",
    "                                  avg, round, current_timestamp,\n",
    "                                  min,max,from_unixtime, lit,array)"
   ]
  },
  {
   "cell_type": "code",
   "execution_count": 4,
   "metadata": {},
   "outputs": [],
   "source": [
    "spark_session = SparkSession.builder.appName(\"airdata-batch-aggregation\").getOrCreate()"
   ]
  },
  {
   "cell_type": "code",
   "execution_count": 5,
   "metadata": {},
   "outputs": [],
   "source": [
    "data_source_path = \"s3a://de432-raw-apnortheast2-073658113926-dev/airkorea/kr/airdata/\""
   ]
  },
  {
   "cell_type": "code",
   "execution_count": 6,
   "metadata": {},
   "outputs": [],
   "source": [
    "schema = StructType([\n",
    "    StructField(\"event_time\", LongType(), False),\n",
    "    StructField(\"pm_10\", LongType(), False),\n",
    "    StructField(\"o3\", DoubleType(), False),\n",
    "    StructField(\"no2\", DoubleType(), False),\n",
    "    StructField(\"co\", DoubleType(), False),\n",
    "    StructField(\"so2\", DoubleType(), False),\n",
    "])"
   ]
  },
  {
   "cell_type": "code",
   "execution_count": 7,
   "metadata": {},
   "outputs": [],
   "source": [
    "airDF = spark_session.read.format(\"parquet\").schema(schema).option(\"path\",data_source_path).load()"
   ]
  },
  {
   "cell_type": "code",
   "execution_count": 9,
   "metadata": {},
   "outputs": [
    {
     "name": "stdout",
     "output_type": "stream",
     "text": [
      "+----------+-----+-----+-----+---+-----+----+-----+---+----+\n",
      "|event_time|pm_10|   o3|  no2| co|  so2|year|month|day|hour|\n",
      "+----------+-----+-----+-----+---+-----+----+-----+---+----+\n",
      "|1691542800|   11|0.022|0.009|0.3|0.002|2023|    8|  9|  10|\n",
      "|1691539200|    6| 0.02|0.008|0.3|0.002|2023|    8|  9|  10|\n",
      "|1691535600|    6|0.018|0.008|0.3|0.002|2023|    8|  9|  10|\n",
      "|1691532000|   12|0.018|0.007|0.3|0.003|2023|    8|  9|  10|\n",
      "|1691528400|    6| 0.02|0.005|0.2|0.002|2023|    8|  9|  10|\n",
      "|1691524800|    3|0.021|0.004|0.2|0.002|2023|    8|  9|  10|\n",
      "|1691521200|    5|0.021|0.004|0.2|0.003|2023|    8|  9|  10|\n",
      "|1691517600|    5|0.019|0.005|0.2|0.002|2023|    8|  9|  10|\n",
      "|1691514000|    5|0.018|0.005|0.2|0.003|2023|    8|  9|  10|\n",
      "|1691510400|    6|0.017|0.006|0.2|0.003|2023|    8|  9|  10|\n",
      "|1691506800|    6|0.017|0.007|0.3|0.002|2023|    8|  9|  10|\n",
      "|1691503200|   10|0.016|0.008|0.3|0.002|2023|    8|  9|  10|\n",
      "|1691499600|    8|0.018|0.008|0.3|0.003|2023|    8|  9|  10|\n",
      "|1691496000|   10|0.021|0.009|0.3|0.002|2023|    8|  9|  10|\n",
      "|1691492400|   13|0.029| 0.01|0.3|0.002|2023|    8|  9|  10|\n",
      "|1691488800|   22|0.045|0.009|0.3|0.003|2023|    8|  9|  10|\n",
      "|1691485200|   11|0.051|0.008|0.2|0.002|2023|    8|  9|  10|\n",
      "|1691481600|   15|0.054|0.007|0.2|0.003|2023|    8|  9|  10|\n",
      "|1691478000|   13|0.057|0.007|0.3|0.002|2023|    8|  9|  10|\n",
      "|1691474400|   15|0.063|0.008|0.3|0.003|2023|    8|  9|  10|\n",
      "+----------+-----+-----+-----+---+-----+----+-----+---+----+\n",
      "only showing top 20 rows\n",
      "\n"
     ]
    }
   ],
   "source": [
    "airDF.show()"
   ]
  },
  {
   "cell_type": "code",
   "execution_count": 10,
   "metadata": {},
   "outputs": [],
   "source": [
    "target_columns = [\"pm_10\", \"o3\", \"no2\", \"co\", \"so2\"]\n",
    "transAirDF = airDF \\\n",
    "            .withColumn(\"values\", array(target_columns)) \\\n",
    "            .select(\"event_time\",\"values\")"
   ]
  },
  {
   "cell_type": "code",
   "execution_count": 11,
   "metadata": {},
   "outputs": [
    {
     "name": "stdout",
     "output_type": "stream",
     "text": [
      "+----------+--------------------------------+\n",
      "|event_time|values                          |\n",
      "+----------+--------------------------------+\n",
      "|1691542800|[11.0, 0.022, 0.009, 0.3, 0.002]|\n",
      "|1691539200|[6.0, 0.02, 0.008, 0.3, 0.002]  |\n",
      "+----------+--------------------------------+\n",
      "only showing top 2 rows\n",
      "\n"
     ]
    }
   ],
   "source": [
    "transAirDF.show(2, False)"
   ]
  },
  {
   "cell_type": "code",
   "execution_count": 14,
   "metadata": {},
   "outputs": [],
   "source": [
    "def get_stattype(index):\n",
    "    stattypes = [1,2,3,4,5]\n",
    "    return stattypes[index]\n",
    "\n",
    "get_stattype_udf = udf(get_stattype)"
   ]
  },
  {
   "cell_type": "code",
   "execution_count": 18,
   "metadata": {},
   "outputs": [
    {
     "name": "stdout",
     "output_type": "stream",
     "text": [
      "+----------+-------+----------+\n",
      "|event_time|stat_id|stat_value|\n",
      "+----------+-------+----------+\n",
      "|1691542800|1      |11.0      |\n",
      "|1691542800|2      |0.022     |\n",
      "|1691542800|3      |0.009     |\n",
      "|1691542800|4      |0.3       |\n",
      "|1691542800|5      |0.002     |\n",
      "|1691539200|1      |6.0       |\n",
      "|1691539200|2      |0.02      |\n",
      "|1691539200|3      |0.008     |\n",
      "|1691539200|4      |0.3       |\n",
      "|1691539200|5      |0.002     |\n",
      "+----------+-------+----------+\n",
      "only showing top 10 rows\n",
      "\n"
     ]
    }
   ],
   "source": [
    "stageAirDF = transAirDF.select(\"event_time\", posexplode(col(\"values\"))).withColumn(\"stat_id\",get_stattype_udf(col(\"pos\"))).withColumnRenamed(\"col\", \"stat_value\").select(\"event_time\",\"stat_id\",\"stat_value\").show(10,False)"
   ]
  }
 ],
 "metadata": {
  "kernelspec": {
   "display_name": "Python 3",
   "language": "python",
   "name": "python3"
  },
  "language_info": {
   "codemirror_mode": {
    "name": "ipython",
    "version": 3
   },
   "file_extension": ".py",
   "mimetype": "text/x-python",
   "name": "python",
   "nbconvert_exporter": "python",
   "pygments_lexer": "ipython3",
   "version": "3.8.10"
  }
 },
 "nbformat": 4,
 "nbformat_minor": 4
}
